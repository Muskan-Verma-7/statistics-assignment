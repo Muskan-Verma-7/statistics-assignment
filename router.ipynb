{
 "cells": [
  {
   "cell_type": "code",
   "execution_count": 1,
   "metadata": {},
   "outputs": [
    {
     "name": "stdout",
     "output_type": "stream",
     "text": [
      "Estimated theta (MLE): 1.4200000450193657\n",
      "Expectation of T: 14.200000450193658 terabytes\n"
     ]
    }
   ],
   "source": [
    "import numpy as np\n",
    "from scipy.stats import gamma\n",
    "from scipy.optimize import minimize\n",
    "\n",
    "# Given density function f_S(s)\n",
    "def f_S(s, theta):\n",
    "    return (1/(24*theta**5)) * s**4 * np.exp(-s/theta)\n",
    "\n",
    "# Density function for T using convolution\n",
    "def f_T(t, theta):\n",
    "    return gamma.pdf(t, a=10, scale=theta)\n",
    "\n",
    "# Log-likelihood function for given theta\n",
    "def log_likelihood(theta, data):\n",
    "    return np.sum(np.log(f_T(data, theta)))\n",
    "\n",
    "# Negative log-likelihood (for minimization)\n",
    "def neg_log_likelihood(theta, data):\n",
    "    return -log_likelihood(theta, data)\n",
    "\n",
    "# Estimate theta using Maximum Likelihood\n",
    "data = [1, 4, 35, 22, 9]\n",
    "initial_guess = [1]\n",
    "bounds = [(0.1, 100)]  # Reasonable bounds for theta\n",
    "result = minimize(neg_log_likelihood, initial_guess, args=(data), bounds=bounds)\n",
    "theta_MLE = result.x[0]\n",
    "\n",
    "# Compute the expectation E[T]\n",
    "E_T = 10 * theta_MLE\n",
    "\n",
    "print(f\"Estimated theta (MLE): {theta_MLE}\")\n",
    "print(f\"Expectation of T: {E_T} terabytes\")\n"
   ]
  },
  {
   "cell_type": "code",
   "execution_count": 3,
   "metadata": {},
   "outputs": [
    {
     "name": "stdout",
     "output_type": "stream",
     "text": [
      "Collecting sympy\n",
      "  Downloading sympy-1.12-py3-none-any.whl (5.7 MB)\n",
      "     ---------------------------------------- 0.0/5.7 MB ? eta -:--:--\n",
      "      --------------------------------------- 0.1/5.7 MB 2.8 MB/s eta 0:00:02\n",
      "     -- ------------------------------------- 0.4/5.7 MB 3.5 MB/s eta 0:00:02\n",
      "     --- ------------------------------------ 0.6/5.7 MB 3.9 MB/s eta 0:00:02\n",
      "     ----- ---------------------------------- 0.8/5.7 MB 3.6 MB/s eta 0:00:02\n",
      "     ------- -------------------------------- 1.0/5.7 MB 3.9 MB/s eta 0:00:02\n",
      "     -------- ------------------------------- 1.2/5.7 MB 3.8 MB/s eta 0:00:02\n",
      "     ---------- ----------------------------- 1.5/5.7 MB 4.1 MB/s eta 0:00:02\n",
      "     ---------- ----------------------------- 1.6/5.7 MB 3.8 MB/s eta 0:00:02\n",
      "     ------------ --------------------------- 1.8/5.7 MB 3.8 MB/s eta 0:00:02\n",
      "     ------------- -------------------------- 2.0/5.7 MB 4.0 MB/s eta 0:00:01\n",
      "     --------------- ------------------------ 2.3/5.7 MB 4.1 MB/s eta 0:00:01\n",
      "     ----------------- ---------------------- 2.5/5.7 MB 4.2 MB/s eta 0:00:01\n",
      "     ------------------ --------------------- 2.7/5.7 MB 4.2 MB/s eta 0:00:01\n",
      "     -------------------- ------------------- 2.9/5.7 MB 4.2 MB/s eta 0:00:01\n",
      "     --------------------- ------------------ 3.1/5.7 MB 4.2 MB/s eta 0:00:01\n",
      "     ----------------------- ---------------- 3.4/5.7 MB 4.2 MB/s eta 0:00:01\n",
      "     ------------------------- -------------- 3.7/5.7 MB 4.2 MB/s eta 0:00:01\n",
      "     --------------------------- ------------ 3.9/5.7 MB 4.3 MB/s eta 0:00:01\n",
      "     ----------------------------- ---------- 4.2/5.7 MB 4.4 MB/s eta 0:00:01\n",
      "     ------------------------------- -------- 4.5/5.7 MB 4.4 MB/s eta 0:00:01\n",
      "     -------------------------------- ------- 4.7/5.7 MB 4.5 MB/s eta 0:00:01\n",
      "     ---------------------------------- ----- 4.9/5.7 MB 4.5 MB/s eta 0:00:01\n",
      "     ------------------------------------ --- 5.2/5.7 MB 4.5 MB/s eta 0:00:01\n",
      "     ------------------------------------- -- 5.4/5.7 MB 4.5 MB/s eta 0:00:01\n",
      "     ---------------------------------------  5.7/5.7 MB 4.5 MB/s eta 0:00:01\n",
      "     ---------------------------------------  5.7/5.7 MB 4.5 MB/s eta 0:00:01\n",
      "     ---------------------------------------  5.7/5.7 MB 4.5 MB/s eta 0:00:01\n",
      "     ---------------------------------------  5.7/5.7 MB 4.5 MB/s eta 0:00:01\n",
      "     ---------------------------------------- 5.7/5.7 MB 4.0 MB/s eta 0:00:00\n",
      "Collecting mpmath>=0.19 (from sympy)\n",
      "  Downloading mpmath-1.3.0-py3-none-any.whl (536 kB)\n",
      "     ---------------------------------------- 0.0/536.2 kB ? eta -:--:--\n",
      "     ---------------------- -------------- 327.7/536.2 kB 10.2 MB/s eta 0:00:01\n",
      "     -------------------------------------  532.5/536.2 kB 8.4 MB/s eta 0:00:01\n",
      "     -------------------------------------  532.5/536.2 kB 8.4 MB/s eta 0:00:01\n",
      "     -------------------------------------  532.5/536.2 kB 8.4 MB/s eta 0:00:01\n",
      "     -------------------------------------  532.5/536.2 kB 8.4 MB/s eta 0:00:01\n",
      "     -------------------------------------- 536.2/536.2 kB 2.2 MB/s eta 0:00:00\n",
      "Installing collected packages: mpmath, sympy\n",
      "Successfully installed mpmath-1.3.0 sympy-1.12\n",
      "Note: you may need to restart the kernel to use updated packages.\n"
     ]
    }
   ],
   "source": [
    "pip install sympy"
   ]
  },
  {
   "cell_type": "code",
   "execution_count": 4,
   "metadata": {},
   "outputs": [
    {
     "name": "stdout",
     "output_type": "stream",
     "text": [
      "    -s \n",
      "    ───\n",
      " 4   θ \n",
      "s ⋅ℯ   \n",
      "───────\n",
      "     5 \n",
      " 24⋅θ  \n",
      "     -t   \n",
      "     ───  \n",
      "  9   θ   \n",
      " t ⋅ℯ     \n",
      "──────────\n",
      "        10\n",
      "362880⋅θ  \n"
     ]
    }
   ],
   "source": [
    "import sympy as sp\n",
    "\n",
    "# Define the variables\n",
    "s, t, theta = sp.symbols('s t theta')\n",
    "\n",
    "# Define the density function f_S(s)\n",
    "f_S_sym = (1/(24*theta**5)) * s**4 * sp.exp(-s/theta)\n",
    "\n",
    "# For f_T(t), since it's the convolution of f_S with itself, \n",
    "# we'll integrate over a dummy variable u\n",
    "u = sp.symbols('u')\n",
    "f_T_sym = sp.integrate(f_S_sym.subs(s, u) * f_S_sym.subs(s, t-u), (u, 0, t))\n",
    "\n",
    "# Print the symbolic forms\n",
    "sp.pprint(f_S_sym)\n",
    "sp.pprint(f_T_sym)\n"
   ]
  },
  {
   "cell_type": "code",
   "execution_count": null,
   "metadata": {},
   "outputs": [],
   "source": []
  }
 ],
 "metadata": {
  "kernelspec": {
   "display_name": "Python 3",
   "language": "python",
   "name": "python3"
  },
  "language_info": {
   "codemirror_mode": {
    "name": "ipython",
    "version": 3
   },
   "file_extension": ".py",
   "mimetype": "text/x-python",
   "name": "python",
   "nbconvert_exporter": "python",
   "pygments_lexer": "ipython3",
   "version": "3.11.1"
  },
  "orig_nbformat": 4
 },
 "nbformat": 4,
 "nbformat_minor": 2
}
